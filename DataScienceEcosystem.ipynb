{
  "nbformat": 4,
  "nbformat_minor": 0,
  "metadata": {
    "colab": {
      "provenance": []
    },
    "kernelspec": {
      "name": "python3",
      "display_name": "Python 3"
    },
    "language_info": {
      "name": "python"
    }
  },
  "cells": [
    {
      "cell_type": "code",
      "source": [],
      "metadata": {
        "id": "A0mh0UE9Rllp"
      },
      "execution_count": null,
      "outputs": []
    },
    {
      "cell_type": "markdown",
      "source": [
        "# Data Science Tools and Ecosystem\n"
      ],
      "metadata": {
        "id": "b58NzqB7RnKb"
      }
    },
    {
      "cell_type": "markdown",
      "source": [
        "In this notebook, Data Science Tools and Ecosystem are summarized."
      ],
      "metadata": {
        "id": "0T7FlDG6SHet"
      }
    },
    {
      "cell_type": "markdown",
      "source": [
        "**Objectives:**\n",
        "- Popular languages\n",
        "- popular packages\n",
        "- popular development environments"
      ],
      "metadata": {
        "id": "UE3HSLprC24G"
      }
    },
    {
      "cell_type": "markdown",
      "source": [
        "Some of the popular languages that Data Scientists use are:\n",
        "1. Python\n",
        "2. R\n",
        "3. C++\n",
        "4. Java\n"
      ],
      "metadata": {
        "id": "-usMX3B0TGDu"
      }
    },
    {
      "cell_type": "markdown",
      "source": [
        "Some of the commonly used libraries used by Data Scientists include:\n",
        "1. SciKit-Learn\n",
        "2. Keras\n",
        "3. Pandas\n",
        "4. NumPy"
      ],
      "metadata": {
        "id": "2txLdn7LT27_"
      }
    },
    {
      "cell_type": "markdown",
      "source": [
        "| Data Science Tools |\n",
        "|     ----------     |\n",
        "| Jupyter Notebooks  |\n",
        "| R Studio           |\n",
        "| Zeppelin Notebooks |"
      ],
      "metadata": {
        "id": "o1XMRzqV_cQ4"
      }
    },
    {
      "cell_type": "markdown",
      "source": [
        "### Below are a few examples of evaluating arithmetic expressions in Python"
      ],
      "metadata": {
        "id": "ctY9HpT-AiqI"
      }
    },
    {
      "cell_type": "code",
      "source": [
        "(3*4)+5\n",
        "#This a simple arithmetic expression to mutiply then add integers"
      ],
      "metadata": {
        "colab": {
          "base_uri": "https://localhost:8080/"
        },
        "id": "JRrlFxQrAqzB",
        "outputId": "fd50f7b4-ce56-4207-d2df-386d7a148010"
      },
      "execution_count": null,
      "outputs": [
        {
          "output_type": "execute_result",
          "data": {
            "text/plain": [
              "17"
            ]
          },
          "metadata": {},
          "execution_count": 1
        }
      ]
    },
    {
      "cell_type": "code",
      "source": [
        "t = 200 #Amount of minutes to convert\n",
        "h = t/60\n",
        "#this will convert 200 minutes to hours by diving by 60\n",
        "h"
      ],
      "metadata": {
        "colab": {
          "base_uri": "https://localhost:8080/"
        },
        "id": "cDk3JoadBBXP",
        "outputId": "3ce140ee-29e4-4fbc-88d4-144141b7c765"
      },
      "execution_count": null,
      "outputs": [
        {
          "output_type": "execute_result",
          "data": {
            "text/plain": [
              "3.3333333333333335"
            ]
          },
          "metadata": {},
          "execution_count": 4
        }
      ]
    },
    {
      "cell_type": "markdown",
      "source": [
        "## Author:\n",
        "Andreas"
      ],
      "metadata": {
        "id": "3vLkGyJgD3RC"
      }
    }
  ]
}